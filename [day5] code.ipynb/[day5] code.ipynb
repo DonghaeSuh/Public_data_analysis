{
 "cells": [
  {
   "cell_type": "code",
   "execution_count": 2,
   "id": "a0c0194a-442a-44a2-b439-5dc3e1ef61de",
   "metadata": {},
   "outputs": [],
   "source": [
    "import numpy as np\n",
    "import pandas as pd\n",
    "from matplotlib import pyplot as plt\n",
    "import seaborn as sns\n",
    "\n",
    "plt.rcParams['font.family'] = \"AppleGothic\"   # \"Malgun Gothic\"\n",
    "plt.rcParams['figure.figsize'] = (8, 6)\n",
    "plt.rcParams['axes.unicode_minus'] = False"
   ]
  },
  {
   "cell_type": "code",
   "execution_count": 4,
   "id": "f32b0dde-09d1-4fc9-8471-10c79d9c6a0c",
   "metadata": {},
   "outputs": [
    {
     "data": {
      "text/html": [
       "<div>\n",
       "<style scoped>\n",
       "    .dataframe tbody tr th:only-of-type {\n",
       "        vertical-align: middle;\n",
       "    }\n",
       "\n",
       "    .dataframe tbody tr th {\n",
       "        vertical-align: top;\n",
       "    }\n",
       "\n",
       "    .dataframe thead th {\n",
       "        text-align: right;\n",
       "    }\n",
       "</style>\n",
       "<table border=\"1\" class=\"dataframe\">\n",
       "  <thead>\n",
       "    <tr style=\"text-align: right;\">\n",
       "      <th></th>\n",
       "      <th>dt</th>\n",
       "      <th>min_v</th>\n",
       "      <th>max_v</th>\n",
       "      <th>mean_v</th>\n",
       "      <th>median_v</th>\n",
       "      <th>mode_V</th>\n",
       "      <th>var_v</th>\n",
       "      <th>std_v</th>\n",
       "      <th>range_v</th>\n",
       "      <th>Q1</th>\n",
       "      <th>Q3</th>\n",
       "      <th>IQR</th>\n",
       "      <th>LB</th>\n",
       "      <th>UB</th>\n",
       "      <th>RMS</th>\n",
       "      <th>Label</th>\n",
       "    </tr>\n",
       "  </thead>\n",
       "  <tbody>\n",
       "    <tr>\n",
       "      <th>0</th>\n",
       "      <td>2020-11-25 14:09:51</td>\n",
       "      <td>-0.026132</td>\n",
       "      <td>0.021607</td>\n",
       "      <td>-2.367838e-07</td>\n",
       "      <td>0.000189</td>\n",
       "      <td>-0.026132</td>\n",
       "      <td>0.000046</td>\n",
       "      <td>0.006768</td>\n",
       "      <td>0.047738</td>\n",
       "      <td>-0.004572</td>\n",
       "      <td>0.004710</td>\n",
       "      <td>0.009282</td>\n",
       "      <td>-0.018496</td>\n",
       "      <td>0.018633</td>\n",
       "      <td>0.006768</td>\n",
       "      <td>정상</td>\n",
       "    </tr>\n",
       "    <tr>\n",
       "      <th>1</th>\n",
       "      <td>2020-11-25 14:09:57</td>\n",
       "      <td>-0.026030</td>\n",
       "      <td>0.024427</td>\n",
       "      <td>1.975752e-05</td>\n",
       "      <td>0.000052</td>\n",
       "      <td>-0.026030</td>\n",
       "      <td>0.000046</td>\n",
       "      <td>0.006775</td>\n",
       "      <td>0.050457</td>\n",
       "      <td>-0.004589</td>\n",
       "      <td>0.004816</td>\n",
       "      <td>0.009405</td>\n",
       "      <td>-0.018696</td>\n",
       "      <td>0.018923</td>\n",
       "      <td>0.006775</td>\n",
       "      <td>정상</td>\n",
       "    </tr>\n",
       "    <tr>\n",
       "      <th>2</th>\n",
       "      <td>2020-11-25 14:10:06</td>\n",
       "      <td>-0.024434</td>\n",
       "      <td>0.023554</td>\n",
       "      <td>1.652153e-05</td>\n",
       "      <td>0.000091</td>\n",
       "      <td>0.007556</td>\n",
       "      <td>0.000045</td>\n",
       "      <td>0.006673</td>\n",
       "      <td>0.047987</td>\n",
       "      <td>-0.004512</td>\n",
       "      <td>0.004640</td>\n",
       "      <td>0.009152</td>\n",
       "      <td>-0.018240</td>\n",
       "      <td>0.018367</td>\n",
       "      <td>0.006673</td>\n",
       "      <td>정상</td>\n",
       "    </tr>\n",
       "    <tr>\n",
       "      <th>3</th>\n",
       "      <td>2020-11-25 14:11:54</td>\n",
       "      <td>-0.024242</td>\n",
       "      <td>0.023190</td>\n",
       "      <td>5.114369e-06</td>\n",
       "      <td>0.000012</td>\n",
       "      <td>-0.000639</td>\n",
       "      <td>0.000045</td>\n",
       "      <td>0.006723</td>\n",
       "      <td>0.047433</td>\n",
       "      <td>-0.004551</td>\n",
       "      <td>0.004630</td>\n",
       "      <td>0.009181</td>\n",
       "      <td>-0.018323</td>\n",
       "      <td>0.018402</td>\n",
       "      <td>0.006723</td>\n",
       "      <td>정상</td>\n",
       "    </tr>\n",
       "    <tr>\n",
       "      <th>4</th>\n",
       "      <td>2020-11-25 14:12:03</td>\n",
       "      <td>-0.023572</td>\n",
       "      <td>0.023039</td>\n",
       "      <td>1.224982e-05</td>\n",
       "      <td>0.000065</td>\n",
       "      <td>-0.008676</td>\n",
       "      <td>0.000046</td>\n",
       "      <td>0.006787</td>\n",
       "      <td>0.046611</td>\n",
       "      <td>-0.004551</td>\n",
       "      <td>0.004679</td>\n",
       "      <td>0.009230</td>\n",
       "      <td>-0.018395</td>\n",
       "      <td>0.018524</td>\n",
       "      <td>0.006787</td>\n",
       "      <td>정상</td>\n",
       "    </tr>\n",
       "    <tr>\n",
       "      <th>...</th>\n",
       "      <td>...</td>\n",
       "      <td>...</td>\n",
       "      <td>...</td>\n",
       "      <td>...</td>\n",
       "      <td>...</td>\n",
       "      <td>...</td>\n",
       "      <td>...</td>\n",
       "      <td>...</td>\n",
       "      <td>...</td>\n",
       "      <td>...</td>\n",
       "      <td>...</td>\n",
       "      <td>...</td>\n",
       "      <td>...</td>\n",
       "      <td>...</td>\n",
       "      <td>...</td>\n",
       "      <td>...</td>\n",
       "    </tr>\n",
       "    <tr>\n",
       "      <th>29085</th>\n",
       "      <td>2020-12-25 12:22:46</td>\n",
       "      <td>-0.024946</td>\n",
       "      <td>0.027159</td>\n",
       "      <td>-7.708980e-06</td>\n",
       "      <td>0.000120</td>\n",
       "      <td>-0.006020</td>\n",
       "      <td>0.000050</td>\n",
       "      <td>0.007059</td>\n",
       "      <td>0.052105</td>\n",
       "      <td>-0.004785</td>\n",
       "      <td>0.004839</td>\n",
       "      <td>0.009625</td>\n",
       "      <td>-0.019222</td>\n",
       "      <td>0.019277</td>\n",
       "      <td>0.007059</td>\n",
       "      <td>베어링불량</td>\n",
       "    </tr>\n",
       "    <tr>\n",
       "      <th>29086</th>\n",
       "      <td>2020-12-25 12:22:49</td>\n",
       "      <td>-0.026202</td>\n",
       "      <td>0.021855</td>\n",
       "      <td>-3.729141e-06</td>\n",
       "      <td>0.000010</td>\n",
       "      <td>-0.005516</td>\n",
       "      <td>0.000047</td>\n",
       "      <td>0.006871</td>\n",
       "      <td>0.048058</td>\n",
       "      <td>-0.004659</td>\n",
       "      <td>0.004728</td>\n",
       "      <td>0.009387</td>\n",
       "      <td>-0.018740</td>\n",
       "      <td>0.018809</td>\n",
       "      <td>0.006871</td>\n",
       "      <td>베어링불량</td>\n",
       "    </tr>\n",
       "    <tr>\n",
       "      <th>29087</th>\n",
       "      <td>2020-12-25 12:22:52</td>\n",
       "      <td>-0.022930</td>\n",
       "      <td>0.022963</td>\n",
       "      <td>-1.704412e-05</td>\n",
       "      <td>0.000125</td>\n",
       "      <td>0.000240</td>\n",
       "      <td>0.000048</td>\n",
       "      <td>0.006936</td>\n",
       "      <td>0.045893</td>\n",
       "      <td>-0.004702</td>\n",
       "      <td>0.004812</td>\n",
       "      <td>0.009514</td>\n",
       "      <td>-0.018973</td>\n",
       "      <td>0.019082</td>\n",
       "      <td>0.006936</td>\n",
       "      <td>베어링불량</td>\n",
       "    </tr>\n",
       "    <tr>\n",
       "      <th>29088</th>\n",
       "      <td>2020-12-25 12:22:55</td>\n",
       "      <td>-0.024193</td>\n",
       "      <td>0.024598</td>\n",
       "      <td>1.033988e-05</td>\n",
       "      <td>0.000069</td>\n",
       "      <td>0.005363</td>\n",
       "      <td>0.000051</td>\n",
       "      <td>0.007139</td>\n",
       "      <td>0.048791</td>\n",
       "      <td>-0.004814</td>\n",
       "      <td>0.005003</td>\n",
       "      <td>0.009817</td>\n",
       "      <td>-0.019539</td>\n",
       "      <td>0.019729</td>\n",
       "      <td>0.007139</td>\n",
       "      <td>베어링불량</td>\n",
       "    </tr>\n",
       "    <tr>\n",
       "      <th>29089</th>\n",
       "      <td>2020-12-25 12:22:58</td>\n",
       "      <td>-0.028275</td>\n",
       "      <td>0.025460</td>\n",
       "      <td>1.436157e-06</td>\n",
       "      <td>-0.000008</td>\n",
       "      <td>0.003425</td>\n",
       "      <td>0.000048</td>\n",
       "      <td>0.006935</td>\n",
       "      <td>0.053736</td>\n",
       "      <td>-0.004722</td>\n",
       "      <td>0.004703</td>\n",
       "      <td>0.009425</td>\n",
       "      <td>-0.018859</td>\n",
       "      <td>0.018841</td>\n",
       "      <td>0.006935</td>\n",
       "      <td>베어링불량</td>\n",
       "    </tr>\n",
       "  </tbody>\n",
       "</table>\n",
       "<p>29090 rows × 16 columns</p>\n",
       "</div>"
      ],
      "text/plain": [
       "                        dt     min_v     max_v        mean_v  median_v  \\\n",
       "0      2020-11-25 14:09:51 -0.026132  0.021607 -2.367838e-07  0.000189   \n",
       "1      2020-11-25 14:09:57 -0.026030  0.024427  1.975752e-05  0.000052   \n",
       "2      2020-11-25 14:10:06 -0.024434  0.023554  1.652153e-05  0.000091   \n",
       "3      2020-11-25 14:11:54 -0.024242  0.023190  5.114369e-06  0.000012   \n",
       "4      2020-11-25 14:12:03 -0.023572  0.023039  1.224982e-05  0.000065   \n",
       "...                    ...       ...       ...           ...       ...   \n",
       "29085  2020-12-25 12:22:46 -0.024946  0.027159 -7.708980e-06  0.000120   \n",
       "29086  2020-12-25 12:22:49 -0.026202  0.021855 -3.729141e-06  0.000010   \n",
       "29087  2020-12-25 12:22:52 -0.022930  0.022963 -1.704412e-05  0.000125   \n",
       "29088  2020-12-25 12:22:55 -0.024193  0.024598  1.033988e-05  0.000069   \n",
       "29089  2020-12-25 12:22:58 -0.028275  0.025460  1.436157e-06 -0.000008   \n",
       "\n",
       "         mode_V     var_v     std_v   range_v        Q1        Q3       IQR  \\\n",
       "0     -0.026132  0.000046  0.006768  0.047738 -0.004572  0.004710  0.009282   \n",
       "1     -0.026030  0.000046  0.006775  0.050457 -0.004589  0.004816  0.009405   \n",
       "2      0.007556  0.000045  0.006673  0.047987 -0.004512  0.004640  0.009152   \n",
       "3     -0.000639  0.000045  0.006723  0.047433 -0.004551  0.004630  0.009181   \n",
       "4     -0.008676  0.000046  0.006787  0.046611 -0.004551  0.004679  0.009230   \n",
       "...         ...       ...       ...       ...       ...       ...       ...   \n",
       "29085 -0.006020  0.000050  0.007059  0.052105 -0.004785  0.004839  0.009625   \n",
       "29086 -0.005516  0.000047  0.006871  0.048058 -0.004659  0.004728  0.009387   \n",
       "29087  0.000240  0.000048  0.006936  0.045893 -0.004702  0.004812  0.009514   \n",
       "29088  0.005363  0.000051  0.007139  0.048791 -0.004814  0.005003  0.009817   \n",
       "29089  0.003425  0.000048  0.006935  0.053736 -0.004722  0.004703  0.009425   \n",
       "\n",
       "             LB        UB       RMS  Label  \n",
       "0     -0.018496  0.018633  0.006768     정상  \n",
       "1     -0.018696  0.018923  0.006775     정상  \n",
       "2     -0.018240  0.018367  0.006673     정상  \n",
       "3     -0.018323  0.018402  0.006723     정상  \n",
       "4     -0.018395  0.018524  0.006787     정상  \n",
       "...         ...       ...       ...    ...  \n",
       "29085 -0.019222  0.019277  0.007059  베어링불량  \n",
       "29086 -0.018740  0.018809  0.006871  베어링불량  \n",
       "29087 -0.018973  0.019082  0.006936  베어링불량  \n",
       "29088 -0.019539  0.019729  0.007139  베어링불량  \n",
       "29089 -0.018859  0.018841  0.006935  베어링불량  \n",
       "\n",
       "[29090 rows x 16 columns]"
      ]
     },
     "execution_count": 4,
     "metadata": {},
     "output_type": "execute_result"
    }
   ],
   "source": [
    "df = pd.read_csv(\"vibration_ml_data(utf8).csv\", encoding = \"utf8\")\n",
    "df"
   ]
  },
  {
   "cell_type": "code",
   "execution_count": 5,
   "id": "96029e91-a600-446e-8cf9-06986760ca73",
   "metadata": {},
   "outputs": [
    {
     "name": "stdout",
     "output_type": "stream",
     "text": [
      "<class 'pandas.core.frame.DataFrame'>\n",
      "RangeIndex: 29090 entries, 0 to 29089\n",
      "Data columns (total 16 columns):\n",
      " #   Column    Non-Null Count  Dtype  \n",
      "---  ------    --------------  -----  \n",
      " 0   dt        29090 non-null  object \n",
      " 1   min_v     29090 non-null  float64\n",
      " 2   max_v     29090 non-null  float64\n",
      " 3   mean_v    29090 non-null  float64\n",
      " 4   median_v  29090 non-null  float64\n",
      " 5   mode_V    29090 non-null  float64\n",
      " 6   var_v     29090 non-null  float64\n",
      " 7   std_v     29090 non-null  float64\n",
      " 8   range_v   29090 non-null  float64\n",
      " 9   Q1        29090 non-null  float64\n",
      " 10  Q3        29090 non-null  float64\n",
      " 11  IQR       29090 non-null  float64\n",
      " 12  LB        29090 non-null  float64\n",
      " 13  UB        29090 non-null  float64\n",
      " 14  RMS       29090 non-null  float64\n",
      " 15  Label     29090 non-null  object \n",
      "dtypes: float64(14), object(2)\n",
      "memory usage: 3.6+ MB\n"
     ]
    }
   ],
   "source": [
    "df.info()"
   ]
  },
  {
   "cell_type": "code",
   "execution_count": 6,
   "id": "b8757901-7c9a-477a-afee-fe2026d26b66",
   "metadata": {},
   "outputs": [
    {
     "data": {
      "text/html": [
       "<div>\n",
       "<style scoped>\n",
       "    .dataframe tbody tr th:only-of-type {\n",
       "        vertical-align: middle;\n",
       "    }\n",
       "\n",
       "    .dataframe tbody tr th {\n",
       "        vertical-align: top;\n",
       "    }\n",
       "\n",
       "    .dataframe thead th {\n",
       "        text-align: right;\n",
       "    }\n",
       "</style>\n",
       "<table border=\"1\" class=\"dataframe\">\n",
       "  <thead>\n",
       "    <tr style=\"text-align: right;\">\n",
       "      <th></th>\n",
       "      <th>min_v</th>\n",
       "      <th>max_v</th>\n",
       "      <th>mean_v</th>\n",
       "      <th>median_v</th>\n",
       "      <th>mode_V</th>\n",
       "      <th>var_v</th>\n",
       "      <th>std_v</th>\n",
       "      <th>range_v</th>\n",
       "      <th>Q1</th>\n",
       "      <th>Q3</th>\n",
       "      <th>IQR</th>\n",
       "      <th>LB</th>\n",
       "      <th>UB</th>\n",
       "      <th>RMS</th>\n",
       "    </tr>\n",
       "  </thead>\n",
       "  <tbody>\n",
       "    <tr>\n",
       "      <th>count</th>\n",
       "      <td>29090.000000</td>\n",
       "      <td>29090.000000</td>\n",
       "      <td>2.909000e+04</td>\n",
       "      <td>29090.000000</td>\n",
       "      <td>29090.000000</td>\n",
       "      <td>29090.000000</td>\n",
       "      <td>29090.000000</td>\n",
       "      <td>29090.000000</td>\n",
       "      <td>29090.000000</td>\n",
       "      <td>29090.000000</td>\n",
       "      <td>29090.000000</td>\n",
       "      <td>29090.000000</td>\n",
       "      <td>29090.000000</td>\n",
       "      <td>29090.000000</td>\n",
       "    </tr>\n",
       "    <tr>\n",
       "      <th>mean</th>\n",
       "      <td>-0.025372</td>\n",
       "      <td>0.024789</td>\n",
       "      <td>-6.221542e-07</td>\n",
       "      <td>0.000067</td>\n",
       "      <td>-0.008170</td>\n",
       "      <td>0.000048</td>\n",
       "      <td>0.006931</td>\n",
       "      <td>0.050162</td>\n",
       "      <td>-0.004692</td>\n",
       "      <td>0.004759</td>\n",
       "      <td>0.009451</td>\n",
       "      <td>-0.018868</td>\n",
       "      <td>0.018935</td>\n",
       "      <td>0.006931</td>\n",
       "    </tr>\n",
       "    <tr>\n",
       "      <th>std</th>\n",
       "      <td>0.001575</td>\n",
       "      <td>0.001712</td>\n",
       "      <td>1.080395e-05</td>\n",
       "      <td>0.000055</td>\n",
       "      <td>0.011428</td>\n",
       "      <td>0.000002</td>\n",
       "      <td>0.000166</td>\n",
       "      <td>0.002457</td>\n",
       "      <td>0.000134</td>\n",
       "      <td>0.000127</td>\n",
       "      <td>0.000251</td>\n",
       "      <td>0.000507</td>\n",
       "      <td>0.000500</td>\n",
       "      <td>0.000166</td>\n",
       "    </tr>\n",
       "    <tr>\n",
       "      <th>min</th>\n",
       "      <td>-0.049319</td>\n",
       "      <td>0.019336</td>\n",
       "      <td>-6.631567e-05</td>\n",
       "      <td>-0.000173</td>\n",
       "      <td>-0.033473</td>\n",
       "      <td>0.000041</td>\n",
       "      <td>0.006406</td>\n",
       "      <td>0.042133</td>\n",
       "      <td>-0.005197</td>\n",
       "      <td>0.000032</td>\n",
       "      <td>0.000065</td>\n",
       "      <td>-0.020749</td>\n",
       "      <td>0.000129</td>\n",
       "      <td>0.006406</td>\n",
       "    </tr>\n",
       "    <tr>\n",
       "      <th>25%</th>\n",
       "      <td>-0.026307</td>\n",
       "      <td>0.023597</td>\n",
       "      <td>-8.350428e-06</td>\n",
       "      <td>0.000031</td>\n",
       "      <td>-0.016999</td>\n",
       "      <td>0.000046</td>\n",
       "      <td>0.006795</td>\n",
       "      <td>0.048466</td>\n",
       "      <td>-0.004784</td>\n",
       "      <td>0.004672</td>\n",
       "      <td>0.009274</td>\n",
       "      <td>-0.019217</td>\n",
       "      <td>0.018584</td>\n",
       "      <td>0.006795</td>\n",
       "    </tr>\n",
       "    <tr>\n",
       "      <th>50%</th>\n",
       "      <td>-0.025218</td>\n",
       "      <td>0.024659</td>\n",
       "      <td>-5.615756e-07</td>\n",
       "      <td>0.000068</td>\n",
       "      <td>-0.006162</td>\n",
       "      <td>0.000048</td>\n",
       "      <td>0.006949</td>\n",
       "      <td>0.050030</td>\n",
       "      <td>-0.004702</td>\n",
       "      <td>0.004767</td>\n",
       "      <td>0.009473</td>\n",
       "      <td>-0.018911</td>\n",
       "      <td>0.018976</td>\n",
       "      <td>0.006949</td>\n",
       "    </tr>\n",
       "    <tr>\n",
       "      <th>75%</th>\n",
       "      <td>-0.024268</td>\n",
       "      <td>0.025838</td>\n",
       "      <td>7.145305e-06</td>\n",
       "      <td>0.000104</td>\n",
       "      <td>0.000468</td>\n",
       "      <td>0.000050</td>\n",
       "      <td>0.007052</td>\n",
       "      <td>0.051692</td>\n",
       "      <td>-0.004599</td>\n",
       "      <td>0.004844</td>\n",
       "      <td>0.009623</td>\n",
       "      <td>-0.018510</td>\n",
       "      <td>0.019276</td>\n",
       "      <td>0.007052</td>\n",
       "    </tr>\n",
       "    <tr>\n",
       "      <th>max</th>\n",
       "      <td>-0.020885</td>\n",
       "      <td>0.053734</td>\n",
       "      <td>1.347263e-04</td>\n",
       "      <td>0.000313</td>\n",
       "      <td>0.023062</td>\n",
       "      <td>0.000055</td>\n",
       "      <td>0.007400</td>\n",
       "      <td>0.103053</td>\n",
       "      <td>-0.000029</td>\n",
       "      <td>0.005242</td>\n",
       "      <td>0.010368</td>\n",
       "      <td>-0.000131</td>\n",
       "      <td>0.020724</td>\n",
       "      <td>0.007400</td>\n",
       "    </tr>\n",
       "  </tbody>\n",
       "</table>\n",
       "</div>"
      ],
      "text/plain": [
       "              min_v         max_v        mean_v      median_v        mode_V  \\\n",
       "count  29090.000000  29090.000000  2.909000e+04  29090.000000  29090.000000   \n",
       "mean      -0.025372      0.024789 -6.221542e-07      0.000067     -0.008170   \n",
       "std        0.001575      0.001712  1.080395e-05      0.000055      0.011428   \n",
       "min       -0.049319      0.019336 -6.631567e-05     -0.000173     -0.033473   \n",
       "25%       -0.026307      0.023597 -8.350428e-06      0.000031     -0.016999   \n",
       "50%       -0.025218      0.024659 -5.615756e-07      0.000068     -0.006162   \n",
       "75%       -0.024268      0.025838  7.145305e-06      0.000104      0.000468   \n",
       "max       -0.020885      0.053734  1.347263e-04      0.000313      0.023062   \n",
       "\n",
       "              var_v         std_v       range_v            Q1            Q3  \\\n",
       "count  29090.000000  29090.000000  29090.000000  29090.000000  29090.000000   \n",
       "mean       0.000048      0.006931      0.050162     -0.004692      0.004759   \n",
       "std        0.000002      0.000166      0.002457      0.000134      0.000127   \n",
       "min        0.000041      0.006406      0.042133     -0.005197      0.000032   \n",
       "25%        0.000046      0.006795      0.048466     -0.004784      0.004672   \n",
       "50%        0.000048      0.006949      0.050030     -0.004702      0.004767   \n",
       "75%        0.000050      0.007052      0.051692     -0.004599      0.004844   \n",
       "max        0.000055      0.007400      0.103053     -0.000029      0.005242   \n",
       "\n",
       "                IQR            LB            UB           RMS  \n",
       "count  29090.000000  29090.000000  29090.000000  29090.000000  \n",
       "mean       0.009451     -0.018868      0.018935      0.006931  \n",
       "std        0.000251      0.000507      0.000500      0.000166  \n",
       "min        0.000065     -0.020749      0.000129      0.006406  \n",
       "25%        0.009274     -0.019217      0.018584      0.006795  \n",
       "50%        0.009473     -0.018911      0.018976      0.006949  \n",
       "75%        0.009623     -0.018510      0.019276      0.007052  \n",
       "max        0.010368     -0.000131      0.020724      0.007400  "
      ]
     },
     "execution_count": 6,
     "metadata": {},
     "output_type": "execute_result"
    }
   ],
   "source": [
    "df.describe()"
   ]
  },
  {
   "cell_type": "code",
   "execution_count": 13,
   "id": "9ebe6ffb-bef9-4900-97aa-8a8e70cf1756",
   "metadata": {},
   "outputs": [
    {
     "data": {
      "text/plain": [
       "<AxesSubplot:xlabel='mean_v', ylabel='Count'>"
      ]
     },
     "execution_count": 13,
     "metadata": {},
     "output_type": "execute_result"
    },
    {
     "data": {
      "image/png": "[encoded data removed]",
      "text/plain": [
       "<Figure size 576x432 with 1 Axes>"
      ]
     },
     "metadata": {
      "needs_background": "light"
     },
     "output_type": "display_data"
    }
   ],
   "source": [
    "sns.histplot(data = df, x = df['mean_v'], hue = df['Label'], element = \"step\")"
   ]
  },
  {
   "cell_type": "code",
   "execution_count": 12,
   "id": "454fa5fd-6ee1-4147-b295-0ac76975baad",
   "metadata": {},
   "outputs": [
    {
     "data": {
      "text/plain": [
       "<AxesSubplot:xlabel='mean_v', ylabel='Density'>"
      ]
     },
     "execution_count": 12,
     "metadata": {},
     "output_type": "execute_result"
    },
    {
     "data": {
      "image/png": "[encoded data removed]",
      "text/plain": [
       "<Figure size 576x432 with 1 Axes>"
      ]
     },
     "metadata": {
      "needs_background": "light"
     },
     "output_type": "display_data"
    }
   ],
   "source": [
    "sns.histplot(data = df, x = df['mean_v'], hue = df['Label'], element = \"step\", stat=\"density\", common_norm = False)"
   ]
  },
  {
   "cell_type": "code",
   "execution_count": 8,
   "id": "394db906-1bd8-4d20-a310-c8bfc3ae2c48",
   "metadata": {},
   "outputs": [
    {
     "data": {
      "text/html": [
       "<div>\n",
       "<style scoped>\n",
       "    .dataframe tbody tr th:only-of-type {\n",
       "        vertical-align: middle;\n",
       "    }\n",
       "\n",
       "    .dataframe tbody tr th {\n",
       "        vertical-align: top;\n",
       "    }\n",
       "\n",
       "    .dataframe thead th {\n",
       "        text-align: right;\n",
       "    }\n",
       "</style>\n",
       "<table border=\"1\" class=\"dataframe\">\n",
       "  <thead>\n",
       "    <tr style=\"text-align: right;\">\n",
       "      <th></th>\n",
       "      <th>dt</th>\n",
       "      <th>min_v</th>\n",
       "      <th>max_v</th>\n",
       "      <th>mean_v</th>\n",
       "      <th>median_v</th>\n",
       "      <th>mode_V</th>\n",
       "      <th>var_v</th>\n",
       "      <th>std_v</th>\n",
       "      <th>range_v</th>\n",
       "      <th>Q1</th>\n",
       "      <th>Q3</th>\n",
       "      <th>IQR</th>\n",
       "      <th>LB</th>\n",
       "      <th>UB</th>\n",
       "      <th>RMS</th>\n",
       "    </tr>\n",
       "    <tr>\n",
       "      <th>Label</th>\n",
       "      <th></th>\n",
       "      <th></th>\n",
       "      <th></th>\n",
       "      <th></th>\n",
       "      <th></th>\n",
       "      <th></th>\n",
       "      <th></th>\n",
       "      <th></th>\n",
       "      <th></th>\n",
       "      <th></th>\n",
       "      <th></th>\n",
       "      <th></th>\n",
       "      <th></th>\n",
       "      <th></th>\n",
       "      <th></th>\n",
       "    </tr>\n",
       "  </thead>\n",
       "  <tbody>\n",
       "    <tr>\n",
       "      <th>베어링불량</th>\n",
       "      <td>21557</td>\n",
       "      <td>21557</td>\n",
       "      <td>21557</td>\n",
       "      <td>21557</td>\n",
       "      <td>21557</td>\n",
       "      <td>21557</td>\n",
       "      <td>21557</td>\n",
       "      <td>21557</td>\n",
       "      <td>21557</td>\n",
       "      <td>21557</td>\n",
       "      <td>21557</td>\n",
       "      <td>21557</td>\n",
       "      <td>21557</td>\n",
       "      <td>21557</td>\n",
       "      <td>21557</td>\n",
       "    </tr>\n",
       "    <tr>\n",
       "      <th>정상</th>\n",
       "      <td>7533</td>\n",
       "      <td>7533</td>\n",
       "      <td>7533</td>\n",
       "      <td>7533</td>\n",
       "      <td>7533</td>\n",
       "      <td>7533</td>\n",
       "      <td>7533</td>\n",
       "      <td>7533</td>\n",
       "      <td>7533</td>\n",
       "      <td>7533</td>\n",
       "      <td>7533</td>\n",
       "      <td>7533</td>\n",
       "      <td>7533</td>\n",
       "      <td>7533</td>\n",
       "      <td>7533</td>\n",
       "    </tr>\n",
       "  </tbody>\n",
       "</table>\n",
       "</div>"
      ],
      "text/plain": [
       "          dt  min_v  max_v  mean_v  median_v  mode_V  var_v  std_v  range_v  \\\n",
       "Label                                                                         \n",
       "베어링불량  21557  21557  21557   21557     21557   21557  21557  21557    21557   \n",
       "정상      7533   7533   7533    7533      7533    7533   7533   7533     7533   \n",
       "\n",
       "          Q1     Q3    IQR     LB     UB    RMS  \n",
       "Label                                            \n",
       "베어링불량  21557  21557  21557  21557  21557  21557  \n",
       "정상      7533   7533   7533   7533   7533   7533  "
      ]
     },
     "execution_count": 8,
     "metadata": {},
     "output_type": "execute_result"
    }
   ],
   "source": [
    "df.groupby(\"Label\").count()"
   ]
  },
  {
   "cell_type": "code",
   "execution_count": 14,
   "id": "09387edd-bbe4-4388-a7ba-18cc3d7440f6",
   "metadata": {},
   "outputs": [
    {
     "data": {
      "text/plain": [
       "<AxesSubplot:xlabel='RMS', ylabel='Density'>"
      ]
     },
     "execution_count": 14,
     "metadata": {},
     "output_type": "execute_result"
    },
    {
     "data": {
      "image/png": "[encoded data removed]",
      "text/plain": [
       "<Figure size 576x432 with 1 Axes>"
      ]
     },
     "metadata": {
      "needs_background": "light"
     },
     "output_type": "display_data"
    }
   ],
   "source": [
    "sns.histplot(data = df, x = df['RMS'], hue = df['Label'], element = \"step\", stat=\"density\", common_norm = False)"
   ]
  },
  {
   "cell_type": "code",
   "execution_count": 15,
   "id": "fae8bd58-7aa3-4c4a-8a5d-3dca664a04e8",
   "metadata": {},
   "outputs": [
    {
     "data": {
      "text/plain": [
       "<AxesSubplot:xlabel='IQR', ylabel='Density'>"
      ]
     },
     "execution_count": 15,
     "metadata": {},
     "output_type": "execute_result"
    },
    {
     "data": {
      "image/png": "[encoded data removed]",
      "text/plain": [
       "<Figure size 576x432 with 1 Axes>"
      ]
     },
     "metadata": {
      "needs_background": "light"
     },
     "output_type": "display_data"
    }
   ],
   "source": [
    "sns.histplot(data = df, x = df['IQR'], hue = df['Label'], element = \"step\", stat=\"density\", common_norm = False)"
   ]
  },
  {
   "cell_type": "code",
   "execution_count": 16,
   "id": "66f57d0a-7b55-46db-93e1-3b4b509d6f97",
   "metadata": {},
   "outputs": [
    {
     "data": {
      "text/plain": [
       "<AxesSubplot:>"
      ]
     },
     "execution_count": 16,
     "metadata": {},
     "output_type": "execute_result"
    },
    {
     "data": {
      "image/png": "[encoded data removed]",
      "text/plain": [
       "<Figure size 576x432 with 1 Axes>"
      ]
     },
     "metadata": {
      "needs_background": "light"
     },
     "output_type": "display_data"
    }
   ],
   "source": [
    "df['mean_v'].plot()"
   ]
  },
  {
   "cell_type": "code",
   "execution_count": 18,
   "id": "566457c1-993b-4e75-8dec-2186c764d548",
   "metadata": {},
   "outputs": [
    {
     "data": {
      "text/plain": [
       "<AxesSubplot:>"
      ]
     },
     "execution_count": 18,
     "metadata": {},
     "output_type": "execute_result"
    },
    {
     "data": {
      "image/png": "[encoded data removed]",
      "text/plain": [
       "<Figure size 576x432 with 1 Axes>"
      ]
     },
     "metadata": {
      "needs_background": "light"
     },
     "output_type": "display_data"
    }
   ],
   "source": [
    "df2 = df[df['mean_v'] < 0.000125]\n",
    "df2['mean_v'].plot()"
   ]
  },
  {
   "cell_type": "code",
   "execution_count": 20,
   "id": "7bcc0607-ebf7-4c17-8c91-9ece1fe678ce",
   "metadata": {},
   "outputs": [
    {
     "data": {
      "text/plain": [
       "<AxesSubplot:>"
      ]
     },
     "execution_count": 20,
     "metadata": {},
     "output_type": "execute_result"
    },
    {
     "data": {
      "image/png": "[encoded data removed]",
      "text/plain": [
       "<Figure size 576x432 with 1 Axes>"
      ]
     },
     "metadata": {
      "needs_background": "light"
     },
     "output_type": "display_data"
    }
   ],
   "source": [
    "df2['IQR'].plot()"
   ]
  },
  {
   "cell_type": "code",
   "execution_count": 21,
   "id": "7f75a05d-f944-4a6a-88cb-7c0b7e959941",
   "metadata": {},
   "outputs": [
    {
     "data": {
      "text/plain": [
       "<AxesSubplot:>"
      ]
     },
     "execution_count": 21,
     "metadata": {},
     "output_type": "execute_result"
    },
    {
     "data": {
      "image/png": "[encoded data removed]",
      "text/plain": [
       "<Figure size 576x432 with 1 Axes>"
      ]
     },
     "metadata": {
      "needs_background": "light"
     },
     "output_type": "display_data"
    }
   ],
   "source": [
    "df3 = df2[df2['IQR'] > 0.002]\n",
    "df3['IQR'].plot()"
   ]
  },
  {
   "cell_type": "code",
   "execution_count": 25,
   "id": "47ed10ba-8cf0-410a-a86d-b7d4bee38397",
   "metadata": {},
   "outputs": [
    {
     "data": {
      "text/plain": [
       "<AxesSubplot:ylabel='IQR'>"
      ]
     },
     "execution_count": 25,
     "metadata": {},
     "output_type": "execute_result"
    },
    {
     "data": {
      "image/png": "[encoded data removed]",
      "text/plain": [
       "<Figure size 576x432 with 1 Axes>"
      ]
     },
     "metadata": {
      "needs_background": "light"
     },
     "output_type": "display_data"
    }
   ],
   "source": [
    "sns.lineplot(data = df3, x = df3.index, y = 'IQR', hue = 'Label')"
   ]
  },
  {
   "cell_type": "code",
   "execution_count": 28,
   "id": "5733e975-0dcc-4ac6-8822-e6b4997e59ec",
   "metadata": {},
   "outputs": [
    {
     "data": {
      "text/plain": [
       "<AxesSubplot:xlabel='IQR', ylabel='Density'>"
      ]
     },
     "execution_count": 28,
     "metadata": {},
     "output_type": "execute_result"
    },
    {
     "data": {
      "image/png": "[encoded data removed]",
      "text/plain": [
       "<Figure size 576x432 with 1 Axes>"
      ]
     },
     "metadata": {
      "needs_background": "light"
     },
     "output_type": "display_data"
    }
   ],
   "source": [
    "sns.histplot(data = df3, x = 'IQR', hue = 'Label', element = \"step\", stat=\"density\", common_norm = False)"
   ]
  },
  {
   "cell_type": "code",
   "execution_count": 33,
   "id": "426042f1-d3e4-45cb-8963-1359cbc25629",
   "metadata": {},
   "outputs": [
    {
     "name": "stdout",
     "output_type": "stream",
     "text": [
      "검정통계량(t-value) : -205.78959917884754\n",
      "유의확률(p-value) : 0.0\n"
     ]
    }
   ],
   "source": [
    "from scipy.stats import ttest_ind\n",
    "\n",
    "ttest_result = ttest_ind(df3[df3['Label']=='정상']['IQR'], df3[df3['Label']=='베어링불량']['IQR'], equal_var = True)\n",
    "print(\"검정통계량(t-value) :\", ttest_result.statistic)\n",
    "print(\"유의확률(p-value) :\", ttest_result.pvalue)"
   ]
  },
  {
   "cell_type": "code",
   "execution_count": 34,
   "id": "ece5a376-d953-4d3c-8407-d589bd090e76",
   "metadata": {},
   "outputs": [
    {
     "name": "stderr",
     "output_type": "stream",
     "text": [
      "/opt/anaconda3/envs/oss/lib/python3.8/site-packages/pandas/core/frame.py:3607: SettingWithCopyWarning: \n",
      "A value is trying to be set on a copy of a slice from a DataFrame.\n",
      "Try using .loc[row_indexer,col_indexer] = value instead\n",
      "\n",
      "See the caveats in the documentation: https://pandas.pydata.org/pandas-docs/stable/user_guide/indexing.html#returning-a-view-versus-a-copy\n",
      "  self._set_item(key, value)\n"
     ]
    },
    {
     "data": {
      "text/html": [
       "<div>\n",
       "<style scoped>\n",
       "    .dataframe tbody tr th:only-of-type {\n",
       "        vertical-align: middle;\n",
       "    }\n",
       "\n",
       "    .dataframe tbody tr th {\n",
       "        vertical-align: top;\n",
       "    }\n",
       "\n",
       "    .dataframe thead th {\n",
       "        text-align: right;\n",
       "    }\n",
       "</style>\n",
       "<table border=\"1\" class=\"dataframe\">\n",
       "  <thead>\n",
       "    <tr style=\"text-align: right;\">\n",
       "      <th></th>\n",
       "      <th>dt</th>\n",
       "      <th>min_v</th>\n",
       "      <th>max_v</th>\n",
       "      <th>mean_v</th>\n",
       "      <th>median_v</th>\n",
       "      <th>mode_V</th>\n",
       "      <th>var_v</th>\n",
       "      <th>std_v</th>\n",
       "      <th>range_v</th>\n",
       "      <th>Q1</th>\n",
       "      <th>Q3</th>\n",
       "      <th>IQR</th>\n",
       "      <th>LB</th>\n",
       "      <th>UB</th>\n",
       "      <th>RMS</th>\n",
       "      <th>Label</th>\n",
       "      <th>Label_le</th>\n",
       "    </tr>\n",
       "  </thead>\n",
       "  <tbody>\n",
       "    <tr>\n",
       "      <th>0</th>\n",
       "      <td>2020-11-25 14:09:51</td>\n",
       "      <td>-0.026132</td>\n",
       "      <td>0.021607</td>\n",
       "      <td>-2.367838e-07</td>\n",
       "      <td>0.000189</td>\n",
       "      <td>-0.026132</td>\n",
       "      <td>0.000046</td>\n",
       "      <td>0.006768</td>\n",
       "      <td>0.047738</td>\n",
       "      <td>-0.004572</td>\n",
       "      <td>0.004710</td>\n",
       "      <td>0.009282</td>\n",
       "      <td>-0.018496</td>\n",
       "      <td>0.018633</td>\n",
       "      <td>0.006768</td>\n",
       "      <td>정상</td>\n",
       "      <td>1</td>\n",
       "    </tr>\n",
       "    <tr>\n",
       "      <th>1</th>\n",
       "      <td>2020-11-25 14:09:57</td>\n",
       "      <td>-0.026030</td>\n",
       "      <td>0.024427</td>\n",
       "      <td>1.975752e-05</td>\n",
       "      <td>0.000052</td>\n",
       "      <td>-0.026030</td>\n",
       "      <td>0.000046</td>\n",
       "      <td>0.006775</td>\n",
       "      <td>0.050457</td>\n",
       "      <td>-0.004589</td>\n",
       "      <td>0.004816</td>\n",
       "      <td>0.009405</td>\n",
       "      <td>-0.018696</td>\n",
       "      <td>0.018923</td>\n",
       "      <td>0.006775</td>\n",
       "      <td>정상</td>\n",
       "      <td>1</td>\n",
       "    </tr>\n",
       "    <tr>\n",
       "      <th>2</th>\n",
       "      <td>2020-11-25 14:10:06</td>\n",
       "      <td>-0.024434</td>\n",
       "      <td>0.023554</td>\n",
       "      <td>1.652153e-05</td>\n",
       "      <td>0.000091</td>\n",
       "      <td>0.007556</td>\n",
       "      <td>0.000045</td>\n",
       "      <td>0.006673</td>\n",
       "      <td>0.047987</td>\n",
       "      <td>-0.004512</td>\n",
       "      <td>0.004640</td>\n",
       "      <td>0.009152</td>\n",
       "      <td>-0.018240</td>\n",
       "      <td>0.018367</td>\n",
       "      <td>0.006673</td>\n",
       "      <td>정상</td>\n",
       "      <td>1</td>\n",
       "    </tr>\n",
       "    <tr>\n",
       "      <th>3</th>\n",
       "      <td>2020-11-25 14:11:54</td>\n",
       "      <td>-0.024242</td>\n",
       "      <td>0.023190</td>\n",
       "      <td>5.114369e-06</td>\n",
       "      <td>0.000012</td>\n",
       "      <td>-0.000639</td>\n",
       "      <td>0.000045</td>\n",
       "      <td>0.006723</td>\n",
       "      <td>0.047433</td>\n",
       "      <td>-0.004551</td>\n",
       "      <td>0.004630</td>\n",
       "      <td>0.009181</td>\n",
       "      <td>-0.018323</td>\n",
       "      <td>0.018402</td>\n",
       "      <td>0.006723</td>\n",
       "      <td>정상</td>\n",
       "      <td>1</td>\n",
       "    </tr>\n",
       "    <tr>\n",
       "      <th>4</th>\n",
       "      <td>2020-11-25 14:12:03</td>\n",
       "      <td>-0.023572</td>\n",
       "      <td>0.023039</td>\n",
       "      <td>1.224982e-05</td>\n",
       "      <td>0.000065</td>\n",
       "      <td>-0.008676</td>\n",
       "      <td>0.000046</td>\n",
       "      <td>0.006787</td>\n",
       "      <td>0.046611</td>\n",
       "      <td>-0.004551</td>\n",
       "      <td>0.004679</td>\n",
       "      <td>0.009230</td>\n",
       "      <td>-0.018395</td>\n",
       "      <td>0.018524</td>\n",
       "      <td>0.006787</td>\n",
       "      <td>정상</td>\n",
       "      <td>1</td>\n",
       "    </tr>\n",
       "    <tr>\n",
       "      <th>...</th>\n",
       "      <td>...</td>\n",
       "      <td>...</td>\n",
       "      <td>...</td>\n",
       "      <td>...</td>\n",
       "      <td>...</td>\n",
       "      <td>...</td>\n",
       "      <td>...</td>\n",
       "      <td>...</td>\n",
       "      <td>...</td>\n",
       "      <td>...</td>\n",
       "      <td>...</td>\n",
       "      <td>...</td>\n",
       "      <td>...</td>\n",
       "      <td>...</td>\n",
       "      <td>...</td>\n",
       "      <td>...</td>\n",
       "      <td>...</td>\n",
       "    </tr>\n",
       "    <tr>\n",
       "      <th>29085</th>\n",
       "      <td>2020-12-25 12:22:46</td>\n",
       "      <td>-0.024946</td>\n",
       "      <td>0.027159</td>\n",
       "      <td>-7.708980e-06</td>\n",
       "      <td>0.000120</td>\n",
       "      <td>-0.006020</td>\n",
       "      <td>0.000050</td>\n",
       "      <td>0.007059</td>\n",
       "      <td>0.052105</td>\n",
       "      <td>-0.004785</td>\n",
       "      <td>0.004839</td>\n",
       "      <td>0.009625</td>\n",
       "      <td>-0.019222</td>\n",
       "      <td>0.019277</td>\n",
       "      <td>0.007059</td>\n",
       "      <td>베어링불량</td>\n",
       "      <td>0</td>\n",
       "    </tr>\n",
       "    <tr>\n",
       "      <th>29086</th>\n",
       "      <td>2020-12-25 12:22:49</td>\n",
       "      <td>-0.026202</td>\n",
       "      <td>0.021855</td>\n",
       "      <td>-3.729141e-06</td>\n",
       "      <td>0.000010</td>\n",
       "      <td>-0.005516</td>\n",
       "      <td>0.000047</td>\n",
       "      <td>0.006871</td>\n",
       "      <td>0.048058</td>\n",
       "      <td>-0.004659</td>\n",
       "      <td>0.004728</td>\n",
       "      <td>0.009387</td>\n",
       "      <td>-0.018740</td>\n",
       "      <td>0.018809</td>\n",
       "      <td>0.006871</td>\n",
       "      <td>베어링불량</td>\n",
       "      <td>0</td>\n",
       "    </tr>\n",
       "    <tr>\n",
       "      <th>29087</th>\n",
       "      <td>2020-12-25 12:22:52</td>\n",
       "      <td>-0.022930</td>\n",
       "      <td>0.022963</td>\n",
       "      <td>-1.704412e-05</td>\n",
       "      <td>0.000125</td>\n",
       "      <td>0.000240</td>\n",
       "      <td>0.000048</td>\n",
       "      <td>0.006936</td>\n",
       "      <td>0.045893</td>\n",
       "      <td>-0.004702</td>\n",
       "      <td>0.004812</td>\n",
       "      <td>0.009514</td>\n",
       "      <td>-0.018973</td>\n",
       "      <td>0.019082</td>\n",
       "      <td>0.006936</td>\n",
       "      <td>베어링불량</td>\n",
       "      <td>0</td>\n",
       "    </tr>\n",
       "    <tr>\n",
       "      <th>29088</th>\n",
       "      <td>2020-12-25 12:22:55</td>\n",
       "      <td>-0.024193</td>\n",
       "      <td>0.024598</td>\n",
       "      <td>1.033988e-05</td>\n",
       "      <td>0.000069</td>\n",
       "      <td>0.005363</td>\n",
       "      <td>0.000051</td>\n",
       "      <td>0.007139</td>\n",
       "      <td>0.048791</td>\n",
       "      <td>-0.004814</td>\n",
       "      <td>0.005003</td>\n",
       "      <td>0.009817</td>\n",
       "      <td>-0.019539</td>\n",
       "      <td>0.019729</td>\n",
       "      <td>0.007139</td>\n",
       "      <td>베어링불량</td>\n",
       "      <td>0</td>\n",
       "    </tr>\n",
       "    <tr>\n",
       "      <th>29089</th>\n",
       "      <td>2020-12-25 12:22:58</td>\n",
       "      <td>-0.028275</td>\n",
       "      <td>0.025460</td>\n",
       "      <td>1.436157e-06</td>\n",
       "      <td>-0.000008</td>\n",
       "      <td>0.003425</td>\n",
       "      <td>0.000048</td>\n",
       "      <td>0.006935</td>\n",
       "      <td>0.053736</td>\n",
       "      <td>-0.004722</td>\n",
       "      <td>0.004703</td>\n",
       "      <td>0.009425</td>\n",
       "      <td>-0.018859</td>\n",
       "      <td>0.018841</td>\n",
       "      <td>0.006935</td>\n",
       "      <td>베어링불량</td>\n",
       "      <td>0</td>\n",
       "    </tr>\n",
       "  </tbody>\n",
       "</table>\n",
       "<p>29087 rows × 17 columns</p>\n",
       "</div>"
      ],
      "text/plain": [
       "                        dt     min_v     max_v        mean_v  median_v  \\\n",
       "0      2020-11-25 14:09:51 -0.026132  0.021607 -2.367838e-07  0.000189   \n",
       "1      2020-11-25 14:09:57 -0.026030  0.024427  1.975752e-05  0.000052   \n",
       "2      2020-11-25 14:10:06 -0.024434  0.023554  1.652153e-05  0.000091   \n",
       "3      2020-11-25 14:11:54 -0.024242  0.023190  5.114369e-06  0.000012   \n",
       "4      2020-11-25 14:12:03 -0.023572  0.023039  1.224982e-05  0.000065   \n",
       "...                    ...       ...       ...           ...       ...   \n",
       "29085  2020-12-25 12:22:46 -0.024946  0.027159 -7.708980e-06  0.000120   \n",
       "29086  2020-12-25 12:22:49 -0.026202  0.021855 -3.729141e-06  0.000010   \n",
       "29087  2020-12-25 12:22:52 -0.022930  0.022963 -1.704412e-05  0.000125   \n",
       "29088  2020-12-25 12:22:55 -0.024193  0.024598  1.033988e-05  0.000069   \n",
       "29089  2020-12-25 12:22:58 -0.028275  0.025460  1.436157e-06 -0.000008   \n",
       "\n",
       "         mode_V     var_v     std_v   range_v        Q1        Q3       IQR  \\\n",
       "0     -0.026132  0.000046  0.006768  0.047738 -0.004572  0.004710  0.009282   \n",
       "1     -0.026030  0.000046  0.006775  0.050457 -0.004589  0.004816  0.009405   \n",
       "2      0.007556  0.000045  0.006673  0.047987 -0.004512  0.004640  0.009152   \n",
       "3     -0.000639  0.000045  0.006723  0.047433 -0.004551  0.004630  0.009181   \n",
       "4     -0.008676  0.000046  0.006787  0.046611 -0.004551  0.004679  0.009230   \n",
       "...         ...       ...       ...       ...       ...       ...       ...   \n",
       "29085 -0.006020  0.000050  0.007059  0.052105 -0.004785  0.004839  0.009625   \n",
       "29086 -0.005516  0.000047  0.006871  0.048058 -0.004659  0.004728  0.009387   \n",
       "29087  0.000240  0.000048  0.006936  0.045893 -0.004702  0.004812  0.009514   \n",
       "29088  0.005363  0.000051  0.007139  0.048791 -0.004814  0.005003  0.009817   \n",
       "29089  0.003425  0.000048  0.006935  0.053736 -0.004722  0.004703  0.009425   \n",
       "\n",
       "             LB        UB       RMS  Label  Label_le  \n",
       "0     -0.018496  0.018633  0.006768     정상         1  \n",
       "1     -0.018696  0.018923  0.006775     정상         1  \n",
       "2     -0.018240  0.018367  0.006673     정상         1  \n",
       "3     -0.018323  0.018402  0.006723     정상         1  \n",
       "4     -0.018395  0.018524  0.006787     정상         1  \n",
       "...         ...       ...       ...    ...       ...  \n",
       "29085 -0.019222  0.019277  0.007059  베어링불량         0  \n",
       "29086 -0.018740  0.018809  0.006871  베어링불량         0  \n",
       "29087 -0.018973  0.019082  0.006936  베어링불량         0  \n",
       "29088 -0.019539  0.019729  0.007139  베어링불량         0  \n",
       "29089 -0.018859  0.018841  0.006935  베어링불량         0  \n",
       "\n",
       "[29087 rows x 17 columns]"
      ]
     },
     "execution_count": 34,
     "metadata": {},
     "output_type": "execute_result"
    }
   ],
   "source": [
    "import sklearn\n",
    "from sklearn.preprocessing import LabelEncoder\n",
    "\n",
    "le = LabelEncoder()\n",
    "le = le.fit(df3['Label'])\n",
    "df3['Label_le'] = le.transform(df3['Label'])\n",
    "\n",
    "df3"
   ]
  },
  {
   "cell_type": "code",
   "execution_count": 37,
   "id": "8828270e-bd51-4bd1-9e88-1be081650c3c",
   "metadata": {},
   "outputs": [
    {
     "data": {
      "text/plain": [
       "Index(['min_v', 'max_v', 'mean_v', 'median_v', 'mode_V', 'var_v', 'std_v',\n",
       "       'range_v', 'Q1', 'Q3', 'IQR', 'LB', 'UB', 'RMS', 'Label_le'],\n",
       "      dtype='object')"
      ]
     },
     "execution_count": 37,
     "metadata": {},
     "output_type": "execute_result"
    }
   ],
   "source": [
    "del df3['dt'], df3['Label']\n",
    "\n",
    "df3.columns"
   ]
  },
  {
   "cell_type": "code",
   "execution_count": 38,
   "id": "d6097882-cb2a-4e57-aeac-0c63780535e5",
   "metadata": {},
   "outputs": [],
   "source": [
    "label_df = df3[\"Label_le\"]\n",
    "feature_df = df3.drop(\"Label_le\", axis = 1)"
   ]
  },
  {
   "cell_type": "code",
   "execution_count": 40,
   "id": "d3eb2c1a-caf2-404a-ac26-ebcbe7c5fe25",
   "metadata": {},
   "outputs": [
    {
     "data": {
      "text/plain": [
       "Index(['min_v', 'max_v', 'mean_v', 'median_v', 'mode_V', 'var_v', 'std_v',\n",
       "       'range_v', 'Q1', 'Q3', 'IQR', 'LB', 'UB', 'RMS'],\n",
       "      dtype='object')"
      ]
     },
     "execution_count": 40,
     "metadata": {},
     "output_type": "execute_result"
    }
   ],
   "source": [
    "feature_df.columns"
   ]
  },
  {
   "cell_type": "code",
   "execution_count": 69,
   "id": "f228f08a-13a5-4ba6-9de0-a62adaffee26",
   "metadata": {},
   "outputs": [],
   "source": [
    "from sklearn.model_selection import train_test_split\n",
    "\n",
    "X_train, X_test, y_train, y_test = train_test_split(feature_df, label_df, test_size = 0.2, random_state = 10)"
   ]
  },
  {
   "cell_type": "code",
   "execution_count": 70,
   "id": "3302b48e-26e8-44bd-90ff-e9c37d35085f",
   "metadata": {},
   "outputs": [
    {
     "name": "stdout",
     "output_type": "stream",
     "text": [
      "<class 'pandas.core.frame.DataFrame'>\n",
      "Int64Index: 23269 entries, 5272 to 17675\n",
      "Data columns (total 14 columns):\n",
      " #   Column    Non-Null Count  Dtype  \n",
      "---  ------    --------------  -----  \n",
      " 0   min_v     23269 non-null  float64\n",
      " 1   max_v     23269 non-null  float64\n",
      " 2   mean_v    23269 non-null  float64\n",
      " 3   median_v  23269 non-null  float64\n",
      " 4   mode_V    23269 non-null  float64\n",
      " 5   var_v     23269 non-null  float64\n",
      " 6   std_v     23269 non-null  float64\n",
      " 7   range_v   23269 non-null  float64\n",
      " 8   Q1        23269 non-null  float64\n",
      " 9   Q3        23269 non-null  float64\n",
      " 10  IQR       23269 non-null  float64\n",
      " 11  LB        23269 non-null  float64\n",
      " 12  UB        23269 non-null  float64\n",
      " 13  RMS       23269 non-null  float64\n",
      "dtypes: float64(14)\n",
      "memory usage: 2.7 MB\n"
     ]
    }
   ],
   "source": [
    "X_train.info()"
   ]
  },
  {
   "cell_type": "code",
   "execution_count": 71,
   "id": "0e2c1b67-d06f-4979-ae39-677ae0d3105f",
   "metadata": {},
   "outputs": [
    {
     "name": "stdout",
     "output_type": "stream",
     "text": [
      "<class 'pandas.core.frame.DataFrame'>\n",
      "Int64Index: 5818 entries, 13174 to 24728\n",
      "Data columns (total 14 columns):\n",
      " #   Column    Non-Null Count  Dtype  \n",
      "---  ------    --------------  -----  \n",
      " 0   min_v     5818 non-null   float64\n",
      " 1   max_v     5818 non-null   float64\n",
      " 2   mean_v    5818 non-null   float64\n",
      " 3   median_v  5818 non-null   float64\n",
      " 4   mode_V    5818 non-null   float64\n",
      " 5   var_v     5818 non-null   float64\n",
      " 6   std_v     5818 non-null   float64\n",
      " 7   range_v   5818 non-null   float64\n",
      " 8   Q1        5818 non-null   float64\n",
      " 9   Q3        5818 non-null   float64\n",
      " 10  IQR       5818 non-null   float64\n",
      " 11  LB        5818 non-null   float64\n",
      " 12  UB        5818 non-null   float64\n",
      " 13  RMS       5818 non-null   float64\n",
      "dtypes: float64(14)\n",
      "memory usage: 681.8 KB\n"
     ]
    }
   ],
   "source": [
    "X_test.info()"
   ]
  },
  {
   "cell_type": "code",
   "execution_count": 72,
   "id": "34aa6dc3-6a10-457b-b15d-63929011b2dc",
   "metadata": {},
   "outputs": [
    {
     "name": "stdout",
     "output_type": "stream",
     "text": [
      "Requirement already satisfied: imblearn in /opt/anaconda3/envs/oss/lib/python3.8/site-packages (0.0)\n",
      "Requirement already satisfied: imbalanced-learn in /opt/anaconda3/envs/oss/lib/python3.8/site-packages (from imblearn) (0.8.0)\n",
      "Requirement already satisfied: scipy>=0.19.1 in /opt/anaconda3/envs/oss/lib/python3.8/site-packages (from imbalanced-learn->imblearn) (1.7.0)\n",
      "Requirement already satisfied: joblib>=0.11 in /opt/anaconda3/envs/oss/lib/python3.8/site-packages (from imbalanced-learn->imblearn) (1.0.1)\n",
      "Requirement already satisfied: scikit-learn>=0.24 in /opt/anaconda3/envs/oss/lib/python3.8/site-packages (from imbalanced-learn->imblearn) (0.24.2)\n",
      "Requirement already satisfied: numpy>=1.13.3 in /opt/anaconda3/envs/oss/lib/python3.8/site-packages (from imbalanced-learn->imblearn) (1.21.0)\n",
      "Requirement already satisfied: threadpoolctl>=2.0.0 in /opt/anaconda3/envs/oss/lib/python3.8/site-packages (from scikit-learn>=0.24->imbalanced-learn->imblearn) (2.2.0)\n",
      "Note: you may need to restart the kernel to use updated packages.\n"
     ]
    }
   ],
   "source": [
    "pip install imblearn"
   ]
  },
  {
   "cell_type": "code",
   "execution_count": 73,
   "id": "704cd329-70fb-4b17-8d88-f4a470d4ec87",
   "metadata": {},
   "outputs": [],
   "source": [
    "# 베어링불량 : 21557, 정상 : 7533"
   ]
  },
  {
   "cell_type": "code",
   "execution_count": 74,
   "id": "24f1c6de-37a4-4bd1-8bd5-3665005e826b",
   "metadata": {},
   "outputs": [],
   "source": [
    "from imblearn.over_sampling import SMOTE\n",
    "\n",
    "sm = SMOTE(random_state = 10)\n",
    "\n",
    "X_resampled, y_resampled = sm.fit_resample(X_train, list(y_train))"
   ]
  },
  {
   "cell_type": "code",
   "execution_count": 75,
   "id": "4adae7db-3bce-46c7-8cf1-1378d3b3e658",
   "metadata": {},
   "outputs": [
    {
     "name": "stdout",
     "output_type": "stream",
     "text": [
      "정상: 17274\n",
      "베어링불량: 17274\n"
     ]
    }
   ],
   "source": [
    "total = len(y_resampled)\n",
    "normal_count = sum(y_resampled)\n",
    "abnor_count = total - abnormal_count\n",
    "\n",
    "print(\"정상:\",normal_count)\n",
    "print(\"베어링불량:\",abnor_count)"
   ]
  },
  {
   "cell_type": "code",
   "execution_count": 97,
   "id": "3422c03f-d730-4286-9a5e-e6a76ddbaca8",
   "metadata": {},
   "outputs": [
    {
     "name": "stdout",
     "output_type": "stream",
     "text": [
      "0.6785837057408044\n"
     ]
    }
   ],
   "source": [
    "from sklearn.linear_model import LogisticRegression\n",
    "from sklearn.metrics import accuracy_score\n",
    "\n",
    "lr_clf = LogisticRegression()\n",
    "\n",
    "lr_clf = lr_clf.fit(X_resampled, y_resampled)\n",
    "lr_pred = lr_clf.predict(X_test)\n",
    "\n",
    "print(accuracy_score(y_test, lr_pred))"
   ]
  },
  {
   "cell_type": "code",
   "execution_count": 98,
   "id": "ebd7ab65-7d77-4dd8-a5b0-b2b186c5a1c0",
   "metadata": {},
   "outputs": [
    {
     "name": "stdout",
     "output_type": "stream",
     "text": [
      "Confusion Matrix \n",
      " [[1074  463]\n",
      " [1407 2874]]\n",
      "정확도: 0.6785837057408044\n",
      "정밀도: 0.4328899637243047\n",
      "재현율: 0.6987638256343527\n",
      "F1-score: 0.5345943255350921\n"
     ]
    }
   ],
   "source": [
    "from sklearn.metrics import accuracy_score, precision_score, recall_score, f1_score, confusion_matrix\n",
    "\n",
    "def get_clf_eval(y_test, pred):\n",
    "    confusion_m = confusion_matrix(y_test, pred, labels = [1, 0])\n",
    "    accuracy = accuracy_score(y_test, pred)\n",
    "    precision = precision_score(y_test, pred)\n",
    "    recall = recall_score(y_test, pred)\n",
    "    f1 = f1_score(y_test, pred)\n",
    "    \n",
    "    print(\"Confusion Matrix \\n\", confusion_m)\n",
    "    print(\"정확도:\", accuracy)\n",
    "    print(\"정밀도:\", precision)\n",
    "    print(\"재현율:\", recall)\n",
    "    print(\"F1-score:\", f1)\n",
    "\n",
    "get_clf_eval(y_test, lr_pred)"
   ]
  },
  {
   "cell_type": "code",
   "execution_count": 101,
   "id": "84f32fa0-6110-46ad-bc22-e36b2c381258",
   "metadata": {},
   "outputs": [
    {
     "data": {
      "image/png": "[encoded data removed]",
      "text/plain": [
       "<Figure size 576x432 with 1 Axes>"
      ]
     },
     "metadata": {
      "needs_background": "light"
     },
     "output_type": "display_data"
    }
   ],
   "source": [
    "from sklearn.metrics import roc_curve\n",
    "\n",
    "def roc_curve_plot(y_test, pred_proba_cl):\n",
    "    fprs, tprs, thresholds = roc_curve(y_test, pred_proba_cl)\n",
    "    \n",
    "    plt.plot(fprs, tprs, label = 'ROC')\n",
    "    \n",
    "    plt.plot([0,1], [0,1], 'k--', label = 'Random')\n",
    "    \n",
    "    start, end = plt.xlim()\n",
    "    plt.xticks(np.round(np.arange(start, end, 0.1), 2))\n",
    "    plt.xlim(0,1)\n",
    "    plt.ylim(0,1)\n",
    "    plt.xlabel(\"FPR (1-Sensitivity)\")\n",
    "    plt.ylabel(\"TPR (Recall)\")\n",
    "    plt.legend()\n",
    "    plt.show()\n",
    "    \n",
    "roc_curve_plot(y_test, lr_clf.predict_proba(X_test)[:,1])"
   ]
  },
  {
   "cell_type": "code",
   "execution_count": 79,
   "id": "f81d2204-524f-42db-8c28-1fb0ef3874b7",
   "metadata": {},
   "outputs": [
    {
     "data": {
      "text/plain": [
       "Index(['min_v', 'max_v', 'mean_v', 'median_v', 'mode_V', 'var_v', 'std_v',\n",
       "       'range_v', 'Q1', 'Q3', 'IQR', 'LB', 'UB', 'RMS'],\n",
       "      dtype='object')"
      ]
     },
     "execution_count": 79,
     "metadata": {},
     "output_type": "execute_result"
    }
   ],
   "source": [
    "X_resampled.columns"
   ]
  },
  {
   "cell_type": "code",
   "execution_count": 118,
   "id": "9a345f3c-b3ec-448f-9011-584504dcbeb7",
   "metadata": {},
   "outputs": [],
   "source": [
    "X_resampled_IQR = X_resampled[['LB','UB']]\n",
    "X_test_IQR = X_test[['LB','UB']]"
   ]
  },
  {
   "cell_type": "code",
   "execution_count": 123,
   "id": "f824fd79-fa0d-4f68-a679-f5fcef4fafdc",
   "metadata": {},
   "outputs": [
    {
     "name": "stdout",
     "output_type": "stream",
     "text": [
      "0.930904090752836\n",
      "0.9388105878308697\n",
      "0.9382949467170849\n"
     ]
    }
   ],
   "source": [
    "from sklearn.linear_model import LogisticRegression\n",
    "from sklearn.tree import DecisionTreeClassifier\n",
    "from sklearn.ensemble import RandomForestClassifier\n",
    "from sklearn.metrics import accuracy_score\n",
    "\n",
    "lr_clf_IQR = LogisticRegression()\n",
    "dt_clf = DecisionTreeClassifier()\n",
    "rf_clf = DecisionTreeClassifier()\n",
    "\n",
    "lr_clf_IQR = lr_clf_IQR.fit(X_resampled_IQR, y_resampled)\n",
    "lr_pred_IQR = lr_clf_IQR.predict(X_test_IQR)\n",
    "\n",
    "dt_clf = dt_clf.fit(X_resampled_IQR, y_resampled)\n",
    "dt_pred_IQR = dt_clf.predict(X_test_IQR)\n",
    "\n",
    "rf_clf = rf_clf.fit(X_resampled_IQR, y_resampled)\n",
    "rf_pred_IQR = rf_clf.predict(X_test_IQR)\n",
    "\n",
    "\n",
    "print(accuracy_score(y_test, lr_pred_IQR))\n",
    "print(accuracy_score(y_test, dt_pred_IQR))\n",
    "print(accuracy_score(y_test, rf_pred_IQR))"
   ]
  },
  {
   "cell_type": "code",
   "execution_count": 120,
   "id": "e6a5cd34-415e-413e-95d9-1d9652a2e54b",
   "metadata": {},
   "outputs": [
    {
     "name": "stdout",
     "output_type": "stream",
     "text": [
      "Confusion Matrix \n",
      " [[1519   18]\n",
      " [ 384 3897]]\n",
      "정확도: 0.930904090752836\n",
      "정밀도: 0.7982133473462953\n",
      "재현율: 0.9882888744307091\n",
      "F1-score: 0.8831395348837209\n"
     ]
    }
   ],
   "source": [
    "get_clf_eval(y_test, lr_pred_IQR)"
   ]
  },
  {
   "cell_type": "code",
   "execution_count": 121,
   "id": "e877cfd7-82fc-41fb-a806-01a4c92cb816",
   "metadata": {},
   "outputs": [
    {
     "data": {
      "image/png": "[encoded data removed]",
      "text/plain": [
       "<Figure size 576x432 with 1 Axes>"
      ]
     },
     "metadata": {
      "needs_background": "light"
     },
     "output_type": "display_data"
    }
   ],
   "source": [
    "roc_curve_plot(y_test, lr_clf_IQR.predict_proba(X_test_IQR)[:,1])"
   ]
  },
  {
   "cell_type": "code",
   "execution_count": null,
   "id": "26fc0c9b-cb73-49cb-8e09-b14d6f264816",
   "metadata": {},
   "outputs": [],
   "source": []
  }
 ],
 "metadata": {
  "kernelspec": {
   "display_name": "Python 3",
   "language": "python",
   "name": "python3"
  },
  "language_info": {
   "codemirror_mode": {
    "name": "ipython",
    "version": 3
   },
   "file_extension": ".py",
   "mimetype": "text/x-python",
   "name": "python",
   "nbconvert_exporter": "python",
   "pygments_lexer": "ipython3",
   "version": "3.8.10"
  }
 },
 "nbformat": 4,
 "nbformat_minor": 5
}
